{
 "cells": [
  {
   "cell_type": "code",
   "execution_count": 1,
   "metadata": {
    "collapsed": true
   },
   "outputs": [],
   "source": [
    "import numpy as np\n",
    "import matplotlib.pyplot as plt\n",
    "import seaborn as sns\n",
    "import math\n",
    "from typing import List, Tuple\n",
    "import random"
   ]
  },
  {
   "cell_type": "code",
   "execution_count": 56,
   "metadata": {
    "collapsed": true
   },
   "outputs": [],
   "source": [
    "np.random.seed(3)"
   ]
  },
  {
   "cell_type": "markdown",
   "metadata": {},
   "source": [
    "# Recommended reading"
   ]
  },
  {
   "cell_type": "markdown",
   "metadata": {},
   "source": [
    "Bayesian parameter estimation supersedes the t-test (Kruschke):\n",
    "\n",
    "https://www.krigolsonteaching.com/uploads/4/3/8/4/43848243/kruschke2012jepg.pdf\n",
    "\n",
    "\n",
    "Blog post on bayesian inference for parameter estimation:\n",
    "\n",
    "https://towardsdatascience.com/probability-concepts-explained-bayesian-inference-for-parameter-estimation-90e8930e5348\n",
    "\n",
    "\n",
    "Doing bayesian data analysis (Kruschke) - this is a text book but it's very easy to read:\n",
    "\n",
    "https://www.amazon.com/Doing-Bayesian-Data-Analysis-Tutorial/dp/0124058884/ref=sr_1_2?gclid=Cj0KCQjwtr_mBRDeARIsALfBZA5eGMYTq2sXJYqDWP7tDLtVCZyQBTF3q2i5fxBKK3yLyXk1lxZ0yWAaAtmVEALw_wcB&hvadid=177324924950&hvdev=c&hvlocphy=1018127&hvnetw=g&hvpos=1t1&hvqmt=e&hvrand=6582771769838659026&hvtargid=kwd-28002132345&hydadcr=3208_9861567&keywords=doing+bayesian+data+analysis&qid=1557190781&s=gateway&sr=8-2\n",
    "\n",
    "\n",
    "Information on conjugate priors (including a table to calculate posterior distributions for conjugate priors):\n",
    "\n",
    "https://en.wikipedia.org/wiki/Conjugate_prior\n",
    "\n",
    "\n",
    "Bayes theorem:\n",
    "\n",
    "https://en.wikipedia.org/wiki/Bayes%27_theorem\n",
    "\n",
    "Derivation of update equations for the gaussian distribution: \n",
    "\n",
    "https://www.cs.ubc.ca/~murphyk/Papers/bayesGauss.pdf"
   ]
  },
  {
   "cell_type": "markdown",
   "metadata": {},
   "source": [
    "# Motivation for this tutorial\n",
    "## Some questions you may want to answer with data...\n",
    "- Is there a difference between two groups (i.e. treatment and control)?\n",
    "- Can we be sure that the difference between groups is non-zero?\n",
    "- What is the magnitude of the difference and how certain are we about this magnitude?\n",
    "\n",
    "### We need statistical methods to answer questions with data because data is noisy\n",
    "\n",
    "### Bayesian analysis is more intuitive than traditional methods of null hypothesis testing - Kruschke"
   ]
  },
  {
   "cell_type": "markdown",
   "metadata": {},
   "source": [
    "# How many people are familiar with bayesian inference?\n",
    "For a quick refresher, let's take a few minutes to skim the first few paragraphs of this blog post:\n",
    "\n",
    "\n",
    "https://towardsdatascience.com/probability-concepts-explained-bayesian-inference-for-parameter-estimation-90e8930e5348"
   ]
  },
  {
   "cell_type": "markdown",
   "metadata": {},
   "source": [
    "# A few notes on this tutorial \n",
    "- This tutorial is not meant to supply you with everything you need to know for doing bayesian analysis (there are whole textbooks written on the topic), rather, it is meant to give you a feel for how to do it on real-ish problems, in hopes that you will read more, and maybe revisit this tutorial and try working some of your own problems.\n",
    "- I feel there is a TON of information on the theory, so this tutorial focuses primarily on practical considerations that you will have to work through every time you implement any sort of bayesian analysis. \n",
    "- Don't freak out if you feel like you don't understand bayesian inference tonight (or even a few months from now). It took me many months of reading and applying it to come to an understanding myself, and I frequently need refreshers :) \n",
    "- Please feel free to stop me at any point if you have questions! "
   ]
  },
  {
   "cell_type": "markdown",
   "metadata": {
    "collapsed": true
   },
   "source": [
    "# A few notes on Bayesian parameter estimation\n",
    "- Bayesian analysis is based on Bayes theorem - but we represent models of our data using distributions rather than single values\n",
    "- Bayesian parameter estimation is simply the reallocation of credibility across possible paramter values\n",
    "- We realocate belief toward the parameter values that are consistent with the data, and away from parameter values are the inconsistent with the data\n",
    "- We don't need p-values for bayesian inference!\n",
    "- Bayesian methods can accept the null hypotheses (unlike traditional hypothesis testing methods)\n",
    "- Decisions based on Bayesian analysis are better founded than traditional null hypothesis testing, whether or not the two methods agree (see the Kruschke paper mentioned above to learn more about this)\n",
    "- Bayesian estimation does not require the assumption that the data are normally distributed\n",
    "- The size of your data (N) and the \"sharpness\" of your prior impact the posterior (see page 112 - 115 in the kruschke book) "
   ]
  },
  {
   "cell_type": "markdown",
   "metadata": {},
   "source": [
    "# Some definitions:\n",
    "\n",
    "### Bayes theorem for parameters:\n",
    "P(paramter | data) = P(parameters) x P(data | parameters) / P(data)\n",
    "we usually get rid of P(data) because it is just a normalizing constant to ensure our probability distribution sums to one, and it is almost always very difficult (or impossible) to calculate. If we toss out the normalizing constant P(data) bayes theorm becomes P(paramter | data) is proportional to P(parameters) x P(data | parameters) / P(data) \n",
    "\n",
    "You can think of it as -> Posterior is proportional to the Prior distribution (prior beliefs) x Likelihood (data) \n",
    "\n",
    "### Prior distribution:\n",
    "P(parameters) -> expresses our previous knowledge about parameter values, without including new data (but can include previously collected data or subject matter expertise / experience) - unless you have good reason to believe otherwise, usually make the prior distribution very broad and vague so that it doesn't overwhelm the posterior\n",
    "\n",
    "### Likelihood: \n",
    "P(data | parameters) -> Essentially, this is a model (distribution) used to represent our data\n",
    "\n",
    "### Posterior: \n",
    "This is the result of applying bayes theorem for models - our beliefs about the parameter values after we have multiplied the prior and the likelihood\n",
    "\n",
    "### Conjugate Distribution\n",
    "A special case that arises when the posterior distribution is from the same probability distribution family as the likelihood and the prior distributions. This is helpful because when you have conjugate distributions, it is possible to analytically determine the posterior distribution. Though sometimes it is still easier to use an approximation method such as markov chain montecarlo (mcmc) to determine the posterior. "
   ]
  },
  {
   "cell_type": "markdown",
   "metadata": {},
   "source": [
    "## Example 1:\n",
    "We want to estimate the *average* height of women in Boston, using the women that are in this tutorial as our sample. Select a sensible prior and likelihood, then calculate the posterior distribution. \n",
    "\n",
    "hint: https://www.usablestats.com/lessons/normal"
   ]
  },
  {
   "cell_type": "code",
   "execution_count": 3,
   "metadata": {
    "collapsed": true
   },
   "outputs": [],
   "source": [
    "mu_prior, sigma_prior = 65, 10 # This is our prior belief about the value of mu. \n",
    "# Usually we try to make the prior distrubution less certain (wider standard deviation) unless we are very certain\n",
    "# in our prior beliefs. See page 112-115 in the Kruschke book. \n",
    "\n",
    "# Get the heights of everyone in the tutorial\n",
    "data = [61, 70, 69, 59, 64, 57, 67]"
   ]
  },
  {
   "cell_type": "markdown",
   "metadata": {},
   "source": [
    "Now we need to calculate or approximate the posterior distribution. Are our distributions conjugate? is there an equation we can use to calculate the posterior? Hint: https://en.wikipedia.org/wiki/Conjugate_prior\n",
    "\n",
    "Is it ok to assume we know the standard deviation of the data? Sometime yes and sometimes no - when doing this in the \"real world\" we almost always discuss this and come to some sort of agreement depending on the situation. If at all possible we try not to make this assumption, and often use markov chain montecarlo to approximate the posterior distribution because the equations for analytically determining the posterior distribution without this assumption are *ugly*. But, for the purposes of this tutorial, this assumption will make calculating the posterior much easier (and mcmc is outside the scope for today). Since we can also look up the standard deviation of heigh for women in the US, we could use that as the standard deviation. For now we will assume that the standard deviation is known and is equal to the standard deviation of the data. But note that when you make this assumption, you can no longer calculate the posterior for standard deviation which is the other parameter of the normal distribution (unless you assume the mu is fixed). "
   ]
  },
  {
   "cell_type": "markdown",
   "metadata": {},
   "source": [
    "Note that the precision is 1 / variance - the equations are less ugly when we work with precision instead of standard deviation\n"
   ]
  },
  {
   "cell_type": "markdown",
   "metadata": {},
   "source": [
    "Now let's make a function to calculate the posterior distribution:"
   ]
  },
  {
   "cell_type": "code",
   "execution_count": 4,
   "metadata": {},
   "outputs": [],
   "source": [
    "def get_posterior(mu_prior: float, sigma_prior: float, data: List[float]) -> Tuple[float, float]:\n",
    "    # In this case we will assume the variance of the data is the variance of the population\n",
    "    mu_data = np.mean(data)\n",
    "    precision_prior = 1 / sigma_prior ** 2 \n",
    "    precision_data = 1 / np.std(data) **2\n",
    "    n = len(data)\n",
    "    term_1 = precision_prior * mu_prior / (n * precision_data + precision_prior)\n",
    "    term_2 = precision_data * mu_data *  n / (n * precision_data + precision_prior)\n",
    "    mu_posterior = term_1 + term_2\n",
    "    precision_posterior = precision_prior + n * precision_data\n",
    "    var_posterior = 1 / precision_posterior\n",
    "    return mu_posterior, np.sqrt(var_posterior)"
   ]
  },
  {
   "cell_type": "code",
   "execution_count": 5,
   "metadata": {},
   "outputs": [
    {
     "name": "stdout",
     "output_type": "stream",
     "text": [
      "mu posterior = 63.89, sigma posterior: 1.74\n"
     ]
    }
   ],
   "source": [
    "mu_posterior, sigma_posterior = get_posterior(sigma_prior=sigma_prior, mu_prior=mu_prior, data=data)\n",
    "print(f\"mu posterior = {mu_posterior:.2f}, sigma posterior: {sigma_posterior:.2f}\")"
   ]
  },
  {
   "cell_type": "markdown",
   "metadata": {},
   "source": [
    "An important point that is easy to forget: the standard deviation we calculated above (sigma posterior) quantifies our uncertainty about the parameter (mu - mean height of women in boston) for which we just calculated the posterior distribution. This is *not* an estimate of the standard deviation of heights for women in boston.\n",
    "\n",
    "If the standard deviation of the posterior is small, it means we are quite certain that our mean is near the mu_posterior value. Conversely, if the standard deviation is large, it means that we are uncertain about the value of the mean. Also notice that as N increases, it overwhelms the prior distribution.\n"
   ]
  },
  {
   "cell_type": "markdown",
   "metadata": {},
   "source": [
    "## Example 2\n",
    " Now imagine that you are working with a chemist to determine the potency, measured in micromolar (uM), of two compounds A and B in an assay, and then determine which compound is more potent. Potency in this assay can range from < 1000 (highly potent) to > 1000 uM (not potent) - as an aside, potency usually can't be < 0, but to keep this example simple, we will say that potency can be less than 0. The chemist has measured the potency of compound A once and compound B once, which you would like to use to estimate the mean potency of each compound. You also have replicate measurements from a few standard compounds for which the true potency is known. You can use these replicates to estimate the assay variability (i.e the standard deviation of your data).\n",
    "\n",
    "First, let's plot all of the data we have for compounds in this assay to better understand how the data are distributed."
   ]
  },
  {
   "cell_type": "code",
   "execution_count": 57,
   "metadata": {},
   "outputs": [],
   "source": [
    "all_data = np.random.normal(60, 20, 1000) # Make some example data"
   ]
  },
  {
   "cell_type": "code",
   "execution_count": 58,
   "metadata": {},
   "outputs": [
    {
     "data": {
      "image/png": "[encoded data removed]",
      "text/plain": [
       "<matplotlib.figure.Figure at 0x1a16d0cdd8>"
      ]
     },
     "metadata": {},
     "output_type": "display_data"
    }
   ],
   "source": [
    "num_bins = 100\n",
    "n, bins, patches = plt.hist(all_data, num_bins, facecolor='blue', alpha=0.5, range=[-5, 120])\n",
    "plt.title('Figure 1: Histogram of all data of compounds previously measured in Assay X')\n",
    "plt.xlabel('Potency (uM)')\n",
    "plt.ylabel('Count')\n",
    "plt.show()"
   ]
  },
  {
   "cell_type": "markdown",
   "metadata": {},
   "source": [
    "Though potency can be between between < -1000 and > 1000 uM, the vast majority of compounds tested in the assay are between 0 and 120 uM (see Figure 1).  Further more, it looks like the data are normally distributed... This makes our life a lot easier. "
   ]
  },
  {
   "cell_type": "markdown",
   "metadata": {},
   "source": [
    "Here are the data for the replicates of the standard compounds in your assay: "
   ]
  },
  {
   "cell_type": "code",
   "execution_count": 59,
   "metadata": {},
   "outputs": [],
   "source": [
    "# Data for compounds x, y, z\n",
    "# Hint: random noise in data is typically normally distributed, even if your data is not normally distributed - we will assume that is the case here\n",
    "cmpd_x_measurements = np.random.normal(20, 2.5, 100)  # Making some example data - known potency is 20 uM for this compound\n",
    "cmpd_y_measurements = np.random.normal(32, 2, 100)  # More example data - known potency is 32 uM for this compound\n",
    "cmpd_z_measurements = np.random.normal(10, 1.8, 100)  # More example data - known potency is 10 uM for this compound"
   ]
  },
  {
   "cell_type": "markdown",
   "metadata": {},
   "source": [
    "Now let's try to quantify the noisiness of the assay. We will do this by calculating the standard deviation of replicates for the standard, compounds X, Y, Z, for which we have 100 measurements each. Remember, it is much easier to calculate the posterior of a normal distribution if the standard deviation of the data is known. That's what we are doing here. Note that in the real world we *probably* wouldn't make this assumption."
   ]
  },
  {
   "cell_type": "code",
   "execution_count": 60,
   "metadata": {},
   "outputs": [],
   "source": [
    "cmpd_x_std, cmpd_y_std, cmpd_z_std = np.std(cmpd_x_measurements), np.std(cmpd_y_measurements), np.std(cmpd_z_measurements)"
   ]
  },
  {
   "cell_type": "code",
   "execution_count": 61,
   "metadata": {},
   "outputs": [],
   "source": [
    "assay_noise_std = np.mean([cmpd_x_std, cmpd_y_std, cmpd_z_std])"
   ]
  },
  {
   "cell_type": "code",
   "execution_count": 62,
   "metadata": {},
   "outputs": [
    {
     "name": "stdout",
     "output_type": "stream",
     "text": [
      "Our assay noise standard deviation is 2.20 uM\n"
     ]
    }
   ],
   "source": [
    "print(f\"Our assay noise standard deviation is {assay_noise_std:.2f} uM\")"
   ]
  },
  {
   "cell_type": "markdown",
   "metadata": {},
   "source": [
    "This means that for the same compound measured in our assay, we expect the standard deviation of the data to be ~ 2 uM.\n",
    "\n",
    "Now we will assume that this is the fixed standard deviation of the data and we can use this \"known\" standard deviation to estimate the potency of each compound based on the measurements we have collected."
   ]
  },
  {
   "cell_type": "code",
   "execution_count": 63,
   "metadata": {
    "collapsed": true
   },
   "outputs": [],
   "source": [
    "actual_a_potency, actual_b_potency = 9, 12.5 # These values are unknown to us in real life, and this is what we are trying to estimate"
   ]
  },
  {
   "cell_type": "code",
   "execution_count": 64,
   "metadata": {},
   "outputs": [],
   "source": [
    "# These are the measurements that the chemist has taken of our compounds in the assay\n",
    "cmpd_a_data = np.random.normal(actual_a_potency, assay_noise_std, 1)\n",
    "cmpd_b_data = np.random.normal(actual_b_potency, assay_noise_std, 1)"
   ]
  },
  {
   "cell_type": "markdown",
   "metadata": {},
   "source": [
    "Now we need to develop a reasonable posterior for the data... \n",
    "\n",
    "mu prior represents the mean of credible parameter values for the parameter that we are trying to estimate, while sigma quantifies our uncertainty (or expected variation in parameter values. These are our beliefs BEFORE we have seen the data for the compounds for which we are trying to estimate their potency."
   ]
  },
  {
   "cell_type": "code",
   "execution_count": 65,
   "metadata": {
    "collapsed": true
   },
   "outputs": [],
   "source": [
    "mu_prior, sigma_prior = 60, 100"
   ]
  },
  {
   "cell_type": "markdown",
   "metadata": {},
   "source": [
    "What we use for a prior is totally up to our discretion. This prior is based on the data plotted in Figure 1, but I have loosened the standard deviation to give our model more flexibility. "
   ]
  },
  {
   "cell_type": "markdown",
   "metadata": {},
   "source": [
    "Now lets plot our prior distribution to see if it seems reasonable"
   ]
  },
  {
   "cell_type": "code",
   "execution_count": 66,
   "metadata": {
    "collapsed": true
   },
   "outputs": [],
   "source": [
    "prior_dist = np.random.normal(mu_prior, sigma_prior, 10000)"
   ]
  },
  {
   "cell_type": "code",
   "execution_count": 67,
   "metadata": {},
   "outputs": [
    {
     "data": {
      "image/png": "[encoded data removed]",
      "text/plain": [
       "<matplotlib.figure.Figure at 0x1a1624a9e8>"
      ]
     },
     "metadata": {},
     "output_type": "display_data"
    }
   ],
   "source": [
    "num_bins = 100\n",
    "n, bins, patches = plt.hist(prior_dist, num_bins, facecolor='blue', alpha=0.5)\n",
    "plt.title('Figure 2: Prior distribution')\n",
    "plt.xlabel('Potency (uM)')\n",
    "plt.ylabel('Count')\n",
    "plt.show()"
   ]
  },
  {
   "cell_type": "markdown",
   "metadata": {},
   "source": [
    "So we are saying that (in lieu of any other information) we believe credible values of actual potency measured in this assay are between -300 and 400 uM. This doesn't mean that there can't be any compounds outside of this range, it just means that we would need a lot of data to convince us. Now that we have our prior and our data (likelihood) let's calculate the posterior distribution:"
   ]
  },
  {
   "cell_type": "code",
   "execution_count": 68,
   "metadata": {
    "collapsed": true
   },
   "outputs": [],
   "source": [
    "def get_posterior_known_var(mu_prior: float, sigma_prior: float, data: List[float], data_sigma: float) -> Tuple[float, float]:\n",
    "    # Now we will use the variance we previously calculated \n",
    "    mu_data = np.mean(data)\n",
    "    precision_prior = 1 / sigma_prior ** 2 \n",
    "    precision_data = 1 / data_sigma **2\n",
    "    n = len(data)\n",
    "    term_1 = precision_prior * mu_prior / (n * precision_data + precision_prior)\n",
    "    term_2 = precision_data * mu_data *  n / (n * precision_data + precision_prior)\n",
    "    mu_posterior = term_1 + term_2\n",
    "    precision_posterior = precision_prior + n * precision_data\n",
    "    var_posterior = 1 / precision_posterior\n",
    "    return mu_posterior, np.sqrt(var_posterior)"
   ]
  },
  {
   "cell_type": "code",
   "execution_count": 69,
   "metadata": {},
   "outputs": [
    {
     "name": "stdout",
     "output_type": "stream",
     "text": [
      "mean of the posterior for compound a = 9.60 with an uncertainty of = 2.20\n",
      "mean of the posterior for compound b = 13.92 with an uncertainty of = 2.20\n"
     ]
    }
   ],
   "source": [
    "mu_a, sigma_a = get_posterior_known_var(mu_prior=mu_prior, sigma_prior=sigma_prior, data=cmpd_a_data, data_sigma=assay_noise_std)\n",
    "mu_b, sigma_b = get_posterior_known_var(mu_prior=mu_prior, sigma_prior=sigma_prior, data=cmpd_b_data, data_sigma=assay_noise_std)\n",
    "print(f\"mean of the posterior for compound a = {mu_a:.2f} with an uncertainty of = {sigma_a:.2f}\")\n",
    "print(f\"mean of the posterior for compound b = {mu_b:.2f} with an uncertainty of = {sigma_b:.2f}\")"
   ]
  },
  {
   "cell_type": "markdown",
   "metadata": {},
   "source": [
    "Let's plot these and take a look..."
   ]
  },
  {
   "cell_type": "code",
   "execution_count": 70,
   "metadata": {
    "collapsed": true
   },
   "outputs": [],
   "source": [
    "posterior_dist_a = np.random.normal(mu_a, sigma_a, 10000)\n",
    "posterior_dist_b = np.random.normal(mu_b, sigma_b, 10000)"
   ]
  },
  {
   "cell_type": "code",
   "execution_count": 71,
   "metadata": {
    "collapsed": true
   },
   "outputs": [],
   "source": [
    "x_range = [0, 25]"
   ]
  },
  {
   "cell_type": "code",
   "execution_count": 72,
   "metadata": {},
   "outputs": [
    {
     "data": {
      "image/png": "[encoded data removed]",
      "text/plain": [
       "<matplotlib.figure.Figure at 0x1a12daee10>"
      ]
     },
     "metadata": {},
     "output_type": "display_data"
    }
   ],
   "source": [
    "num_bins = 100\n",
    "plt.hist(posterior_dist_a, num_bins, facecolor='blue', alpha=0.5, label=\"cmpd_a\", range=x_range)\n",
    "plt.hist(posterior_dist_b, num_bins, facecolor='red', alpha=0.5, label=\"cmpd_b\", range=x_range)\n",
    "plt.title('Posterior distributions for compounds a and b')\n",
    "plt.xlabel('Mean (uM)')\n",
    "plt.ylabel('Count')\n",
    "plt.show()"
   ]
  },
  {
   "cell_type": "markdown",
   "metadata": {},
   "source": [
    "Since we only have one data point for each compound, the ranges are quite wide."
   ]
  },
  {
   "cell_type": "markdown",
   "metadata": {},
   "source": [
    "Is compound a more potent than compound b? Let's start creating the distribution of means for each compound:"
   ]
  },
  {
   "cell_type": "code",
   "execution_count": 73,
   "metadata": {},
   "outputs": [
    {
     "name": "stdout",
     "output_type": "stream",
     "text": [
      "Fraction of mass overlapping = 8.32%\n"
     ]
    }
   ],
   "source": [
    "diff = posterior_dist_a - posterior_dist_b\n",
    "frac_a_less_than_b = sum(diff < 0) / len(diff)\n",
    "frac_overlapping = 1 - frac_a_less_than_b\n",
    "print(f\"Fraction of mass overlapping = {frac_overlapping*100:.2f}%\")"
   ]
  },
  {
   "cell_type": "markdown",
   "metadata": {},
   "source": [
    "Usually we say if < 5% the mass of the distributions is overlapping, we can be confident (statistically speaking) that the difference between a and b is non-zero (i.e. a is more potent than b). Note: you don't have to use 95% / 5% cutoff, this is up to your discretion, but 95% is commonly used to determine statistical significance). "
   ]
  },
  {
   "cell_type": "markdown",
   "metadata": {},
   "source": [
    "Now let's see what happens if we add some more data..."
   ]
  },
  {
   "cell_type": "code",
   "execution_count": 74,
   "metadata": {
    "collapsed": true
   },
   "outputs": [],
   "source": [
    "cmpd_a_data = np.random.normal(actual_a_potency, assay_noise_std, 10)\n",
    "cmpd_b_data = np.random.normal(actual_b_potency, assay_noise_std, 5)"
   ]
  },
  {
   "cell_type": "code",
   "execution_count": 75,
   "metadata": {},
   "outputs": [
    {
     "name": "stdout",
     "output_type": "stream",
     "text": [
      "mean of the posterior for compound a = 10.19 with an uncertainty of = 0.70\n",
      "mean of the posterior for compound b = 12.57 with an uncertainty of = 0.99\n"
     ]
    }
   ],
   "source": [
    "mu_a, sigma_a = get_posterior_known_var(mu_prior=mu_prior, sigma_prior=sigma_prior, data=cmpd_a_data, data_sigma=assay_noise_std)\n",
    "mu_b, sigma_b = get_posterior_known_var(mu_prior=mu_prior, sigma_prior=sigma_prior, data=cmpd_b_data, data_sigma=assay_noise_std)\n",
    "print(f\"mean of the posterior for compound a = {mu_a:.2f} with an uncertainty of = {sigma_a:.2f}\")\n",
    "print(f\"mean of the posterior for compound b = {mu_b:.2f} with an uncertainty of = {sigma_b:.2f}\")"
   ]
  },
  {
   "cell_type": "markdown",
   "metadata": {},
   "source": [
    "Notice that the posterior standard deviation has gotten much smaller indicating that we are more confident in the true value of the mean. Likewise, the mean has gotten much closer to the true value that we are trying to estimate.\n",
    "\n",
    "Let's plot our potency estimates for the two compounds, and compare their distributions"
   ]
  },
  {
   "cell_type": "code",
   "execution_count": 76,
   "metadata": {
    "collapsed": true
   },
   "outputs": [],
   "source": [
    "posterior_dist_a = np.random.normal(mu_a, sigma_a, 10000)\n",
    "posterior_dist_b = np.random.normal(mu_b, sigma_b, 10000)"
   ]
  },
  {
   "cell_type": "code",
   "execution_count": 77,
   "metadata": {},
   "outputs": [
    {
     "data": {
      "image/png": "[encoded data removed]",
      "text/plain": [
       "<matplotlib.figure.Figure at 0x1a16957b38>"
      ]
     },
     "metadata": {},
     "output_type": "display_data"
    }
   ],
   "source": [
    "num_bins = 100\n",
    "plt.hist(posterior_dist_a, num_bins, facecolor='blue', alpha=0.5, range=x_range)\n",
    "plt.hist(posterior_dist_b, num_bins, facecolor='red', alpha=0.5, range=x_range)\n",
    "plt.title('Posterior distribution for compound a')\n",
    "plt.xlabel('Mean (uM)')\n",
    "plt.ylabel('Count')\n",
    "plt.show()"
   ]
  },
  {
   "cell_type": "code",
   "execution_count": 78,
   "metadata": {
    "collapsed": true
   },
   "outputs": [],
   "source": [
    "posterior_dist_a = np.random.normal(mu_a, sigma_a, 10000)\n",
    "posterior_dist_b = np.random.normal(mu_b, sigma_b, 10000)"
   ]
  },
  {
   "cell_type": "code",
   "execution_count": 79,
   "metadata": {},
   "outputs": [
    {
     "name": "stdout",
     "output_type": "stream",
     "text": [
      "Percent of mass overlapping = 2.55%\n"
     ]
    }
   ],
   "source": [
    "diff = posterior_dist_a - posterior_dist_b\n",
    "frac_a_less_than_b = sum(diff < 0) / len(diff)\n",
    "frac_overlapping = 1 - frac_a_less_than_b\n",
    "print(f\"Percent of mass overlapping = {frac_overlapping*100:.2f}%\")"
   ]
  },
  {
   "cell_type": "markdown",
   "metadata": {},
   "source": [
    "Now we can say that the difference between a and b is non-zero or, compound a is more potent than compound b. "
   ]
  },
  {
   "cell_type": "code",
   "execution_count": null,
   "metadata": {
    "collapsed": true
   },
   "outputs": [],
   "source": []
  }
 ],
 "metadata": {
  "kernelspec": {
   "display_name": "Python 3",
   "language": "python",
   "name": "python3"
  },
  "language_info": {
   "codemirror_mode": {
    "name": "ipython",
    "version": 3
   },
   "file_extension": ".py",
   "mimetype": "text/x-python",
   "name": "python",
   "nbconvert_exporter": "python",
   "pygments_lexer": "ipython3",
   "version": "3.6.3"
  }
 },
 "nbformat": 4,
 "nbformat_minor": 2
}
